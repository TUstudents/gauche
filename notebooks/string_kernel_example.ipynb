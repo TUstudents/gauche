{
 "cells": [
  {
   "cell_type": "markdown",
   "metadata": {},
   "source": [
    "# Using a string kernel on the Photoswitch dataset using the SMILES representation\n",
    "\n",
    "<a target=\"_blank\" href=\"https://colab.research.google.com/github/leojklarner/gauche/blob/main/notebooks/string_kernel_example.ipynb\">\n",
    "  <img src=\"https://colab.research.google.com/assets/colab-badge.svg\" alt=\"Open In Colab\"/>\n",
    "</a>"
   ]
  },
  {
   "cell_type": "code",
   "execution_count": 9,
   "metadata": {},
   "outputs": [
    {
     "name": "stdout",
     "output_type": "stream",
     "text": [
      "The autoreload extension is already loaded. To reload it, use:\n",
      "  %reload_ext autoreload\n"
     ]
    }
   ],
   "source": [
    "%load_ext autoreload\n",
    "%autoreload 2"
   ]
  },
  {
   "cell_type": "code",
   "execution_count": null,
   "metadata": {},
   "outputs": [],
   "source": [
    "!pip install gauche --quiet"
   ]
  },
  {
   "cell_type": "markdown",
   "metadata": {},
   "source": [
    "### Import and Utils\n"
   ]
  },
  {
   "cell_type": "code",
   "execution_count": 10,
   "metadata": {},
   "outputs": [],
   "source": [
    "import torch\n",
    "import numpy as np\n",
    "import matplotlib.pyplot as plt\n",
    "from sklearn.model_selection import train_test_split\n",
    "from sklearn.metrics import r2_score, mean_absolute_error"
   ]
  },
  {
   "cell_type": "code",
   "execution_count": 11,
   "metadata": {},
   "outputs": [],
   "source": [
    "from botorch import fit_gpytorch_model\n",
    "from botorch.models import SingleTaskGP\n",
    "from botorch.models.fully_bayesian import MIN_INFERRED_NOISE_LEVEL\n",
    "from botorch.models.transforms import Normalize, Standardize\n",
    "from gpytorch.constraints import GreaterThan\n",
    "from gpytorch.kernels import ScaleKernel\n",
    "from gpytorch.likelihoods import GaussianLikelihood\n",
    "from gpytorch.mlls import ExactMarginalLogLikelihood\n",
    "from gpytorch.priors import GammaPrior"
   ]
  },
  {
   "cell_type": "code",
   "execution_count": 12,
   "metadata": {},
   "outputs": [],
   "source": [
    "from gauche.dataloader import MolPropLoader\n",
    "from gauche.dataloader.data_utils import transform_data\n",
    "from gauche.kernels.string_kernels.sskkernel import pad, encode_string, build_one_hot, SubsequenceStringKernel"
   ]
  },
  {
   "cell_type": "code",
   "execution_count": 13,
   "metadata": {},
   "outputs": [],
   "source": [
    "# plotting util\n",
    "def cv_plot(median, q1, q2, y_test):\n",
    "    fig, ax = plt.subplots(1, 1, figsize=(8, 6))\n",
    "    ax.plot([torch.min(median), torch.max(median)], [torch.min(median), torch.max(median)], \"b--\", lw=2)\n",
    "    yerr1, yerr2 = median - q1, q2 - median\n",
    "    yerr = torch.cat((yerr1.unsqueeze(0), yerr2.unsqueeze(0)), dim=0).squeeze(-1)\n",
    "    markers, caps, bars = ax.errorbar(\n",
    "        y_test.squeeze(-1).cpu(),\n",
    "        median.squeeze(-1).cpu(),\n",
    "        yerr=yerr.cpu(),\n",
    "        fmt=\".\",\n",
    "        capsize=4,\n",
    "        elinewidth=2.0,\n",
    "        ms=14,\n",
    "        c=\"k\",\n",
    "        ecolor=\"gray\",\n",
    "    )\n",
    "    [bar.set_alpha(0.8) for bar in bars]\n",
    "    [cap.set_alpha(0.8) for cap in caps]\n",
    "    ax.set_xlabel(\"True value\", fontsize=20)\n",
    "    ax.set_ylabel(\"Predicted value\", fontsize=20)\n",
    "    ax.set_aspect(\"equal\")\n",
    "    ax.grid(True)\n"
   ]
  },
  {
   "cell_type": "code",
   "execution_count": 14,
   "metadata": {},
   "outputs": [
    {
     "name": "stdout",
     "output_type": "stream",
     "text": [
      "{'dtype': torch.float32, 'device': device(type='cuda')}\n"
     ]
    }
   ],
   "source": [
    "# Use GPU if available or default to CPU\n",
    "device = torch.device(\"cuda\" if torch.cuda.is_available() else \"cpu\")\n",
    "tkwargs = {\"dtype\": torch.float, \"device\": device}\n",
    "print(tkwargs)"
   ]
  },
  {
   "cell_type": "markdown",
   "metadata": {},
   "source": [
    "### Data setup"
   ]
  },
  {
   "cell_type": "code",
   "execution_count": 15,
   "metadata": {},
   "outputs": [],
   "source": [
    "# Regression experiments parameters, number of random splits and split size\n",
    "n_trials = 20\n",
    "test_set_size = 0.2"
   ]
  },
  {
   "cell_type": "code",
   "execution_count": 16,
   "metadata": {},
   "outputs": [
    {
     "name": "stdout",
     "output_type": "stream",
     "text": [
      "Found 13 invalid labels [nan nan nan nan nan nan nan nan nan nan nan nan nan] at indices [41, 42, 43, 44, 45, 46, 47, 48, 49, 50, 51, 52, 158]\n",
      "To turn validation off, use dataloader.read_csv(..., validate=False).\n",
      "len(smiles) 392 | len(targets) 392\n"
     ]
    }
   ],
   "source": [
    "dataset = 'Photoswitch'\n",
    "loader = MolPropLoader()\n",
    "loader.load_benchmark(\"Photoswitch\")\n",
    "smiles = loader.features\n",
    "targets = loader.labels\n",
    "print(f'len(smiles) {len(smiles)} | len(targets) {len(targets)}')"
   ]
  },
  {
   "cell_type": "code",
   "execution_count": 17,
   "metadata": {},
   "outputs": [
    {
     "name": "stdout",
     "output_type": "stream",
     "text": [
      "alphabet \n",
      " ['n', 'O', 'o', 'B', '[', 'C', '#', '(', ']', '-', 'N', 'H', 'I', 'S', '3', 'F', 's', '+', '2', '1', '4', 'r', '=', 'l', ')', 'c'] \n",
      " length of alphabet 26\n",
      "maxlen 79\n"
     ]
    }
   ],
   "source": [
    "maxlen = np.max([len(x) for x in smiles])\n",
    "# get alphabet of characters used in candidate set (to init SSK)\n",
    "alphabet = list({l for word in smiles for l in word})\n",
    "print(f'alphabet \\n {alphabet} \\n length of alphabet {len(alphabet)}')\n",
    "print(f'maxlen {maxlen}')"
   ]
  },
  {
   "cell_type": "markdown",
   "metadata": {},
   "source": [
    "### Model Fits and Prediction"
   ]
  },
  {
   "cell_type": "code",
   "execution_count": 18,
   "metadata": {},
   "outputs": [],
   "source": [
    "def get_gp_model(X, Y):\n",
    "    likelihood = GaussianLikelihood(\n",
    "        noise_prior=GammaPrior(torch.tensor(0.9, **tkwargs), torch.tensor(10.0, **tkwargs)),\n",
    "        noise_constraint=GreaterThan(MIN_INFERRED_NOISE_LEVEL),\n",
    "    )\n",
    "    covar_module = ScaleKernel(  # Use the same lengthscale prior as in the TuRBO paper\n",
    "        SubsequenceStringKernel(embds, index, alphabet, maxlen, **tkwargs),\n",
    "    )\n",
    "    gp_model = SingleTaskGP(\n",
    "        train_X=X,\n",
    "        train_Y=Y,\n",
    "        outcome_transform=Standardize(1),\n",
    "        likelihood=likelihood,\n",
    "        covar_module=covar_module,\n",
    "    )\n",
    "    mll = ExactMarginalLogLikelihood(model=gp_model, likelihood=gp_model.likelihood)\n",
    "    # ideally we can optimize over the kernel hyper-parameters of the string kernel\n",
    "    # however, the gpu memory usage in batch (GPU) version of the kernel is quite high\n",
    "    # while the standard non-batch version is relatively slow for kernel evaluation.\n",
    "    # Nevertheless, the kernel is very robust to choices of different these hyper-params.\n",
    "    mll.model.covar_module.base_kernel.raw_order_coefs.requires_grad = False\n",
    "    mll.model.covar_module.base_kernel.raw_match_decay.requires_grad = False\n",
    "    mll.model.covar_module.base_kernel.raw_gap_decay.requires_grad = False\n",
    "    return mll, gp_model"
   ]
  },
  {
   "cell_type": "code",
   "execution_count": 19,
   "metadata": {},
   "outputs": [],
   "source": [
    "embds, index = build_one_hot(alphabet)\n",
    "embds = embds.to(**tkwargs)\n",
    "all_encoded_smiles = torch.cat([pad(encode_string(x, index), maxlen).unsqueeze(0) for x in smiles], dim=0)"
   ]
  },
  {
   "cell_type": "code",
   "execution_count": 20,
   "metadata": {},
   "outputs": [],
   "source": [
    "X_train, X_test, y_train, y_test = train_test_split(all_encoded_smiles, targets, test_size=test_set_size, random_state=0)\n",
    "X_train = X_train.to(**tkwargs)\n",
    "X_test = X_test.to(**tkwargs)\n",
    "y_train = torch.tensor(y_train, **tkwargs)\n",
    "y_test = torch.tensor(y_test, **tkwargs)"
   ]
  },
  {
   "cell_type": "code",
   "execution_count": 21,
   "metadata": {},
   "outputs": [
    {
     "name": "stderr",
     "output_type": "stream",
     "text": [
      "c:\\Users\\AntObi\\anaconda3\\envs\\gauche\\lib\\site-packages\\botorch\\models\\gp_regression.py:161: UserWarning: The model inputs are of type torch.float32. It is strongly recommended to use double precision in BoTorch, as this improves both precision and stability and can help avoid numerical errors. See https://github.com/pytorch/botorch/discussions/1444\n",
      "  self._validate_tensor_args(X=transformed_X, Y=train_Y, Yvar=train_Yvar)\n",
      "c:\\Users\\AntObi\\anaconda3\\envs\\gauche\\lib\\site-packages\\botorch\\models\\utils\\assorted.py:174: InputDataWarning: Input data is not contained to the unit cube. Please consider min-max scaling the input data.\n",
      "  warnings.warn(msg, InputDataWarning)\n"
     ]
    },
    {
     "data": {
      "text/plain": [
       "ExactMarginalLogLikelihood(\n",
       "  (likelihood): GaussianLikelihood(\n",
       "    (noise_covar): HomoskedasticNoise(\n",
       "      (noise_prior): GammaPrior()\n",
       "      (raw_noise_constraint): GreaterThan(1.000E-04)\n",
       "    )\n",
       "  )\n",
       "  (model): SingleTaskGP(\n",
       "    (likelihood): GaussianLikelihood(\n",
       "      (noise_covar): HomoskedasticNoise(\n",
       "        (noise_prior): GammaPrior()\n",
       "        (raw_noise_constraint): GreaterThan(1.000E-04)\n",
       "      )\n",
       "    )\n",
       "    (mean_module): ConstantMean()\n",
       "    (covar_module): ScaleKernel(\n",
       "      (base_kernel): SubsequenceStringKernel(\n",
       "        (raw_gap_decay_constraint): Interval(0.000E+00, 1.000E+00)\n",
       "        (raw_match_decay_constraint): Interval(0.000E+00, 1.000E+00)\n",
       "        (raw_order_coefs_constraint): Interval(0.000E+00, 1.000E+00)\n",
       "      )\n",
       "      (raw_outputscale_constraint): Positive()\n",
       "    )\n",
       "    (outcome_transform): Standardize()\n",
       "  )\n",
       ")"
      ]
     },
     "execution_count": 21,
     "metadata": {},
     "output_type": "execute_result"
    }
   ],
   "source": [
    "mll, gp_model = get_gp_model(X_train, y_train)\n",
    "fit_gpytorch_model(mll)"
   ]
  },
  {
   "cell_type": "code",
   "execution_count": 22,
   "metadata": {},
   "outputs": [
    {
     "data": {
      "image/png": "[encoded data removed]",
      "text/plain": [
       "<Figure size 800x600 with 1 Axes>"
      ]
     },
     "metadata": {},
     "output_type": "display_data"
    }
   ],
   "source": [
    "posterior = gp_model.posterior(X_test)\n",
    "median = posterior.mean.cpu().detach()\n",
    "std = posterior.variance.cpu().detach()**(1/2)\n",
    "q1 = median - std\n",
    "q2 = median + std\n",
    "cv_plot(median, q1, q2, y_test)"
   ]
  },
  {
   "cell_type": "code",
   "execution_count": 23,
   "metadata": {},
   "outputs": [
    {
     "name": "stdout",
     "output_type": "stream",
     "text": [
      "0.8807364374893456\n",
      "12.612753\n"
     ]
    }
   ],
   "source": [
    "print(r2_score(median.squeeze(1), y_test.cpu().detach().squeeze(1)))\n",
    "print(mean_absolute_error(median.squeeze(1), y_test.cpu().detach().squeeze(1)))"
   ]
  },
  {
   "cell_type": "markdown",
   "metadata": {},
   "source": [
    "### Testing BoTorch compatibility"
   ]
  },
  {
   "cell_type": "code",
   "execution_count": 24,
   "metadata": {},
   "outputs": [],
   "source": [
    "from botorch.acquisition import qExpectedImprovement\n",
    "from botorch.sampling import SobolQMCNormalSampler"
   ]
  },
  {
   "cell_type": "code",
   "execution_count": 26,
   "metadata": {},
   "outputs": [
    {
     "name": "stdout",
     "output_type": "stream",
     "text": [
      "tensor([0.0000, 0.0000, 0.0000, 0.0000, 0.0000, 0.0000, 0.0000, 0.0000, 0.0000,\n",
      "        0.0000, 0.0000, 0.0000, 0.0000, 0.0000, 0.0000, 0.0000, 0.0000, 0.0000,\n",
      "        0.0000, 0.0000, 0.0000, 0.0000, 0.0000, 0.0000, 0.0000, 0.0000, 0.0000,\n",
      "        0.0000, 0.0000, 0.0000, 0.0000, 0.0000, 0.0000, 0.0000, 0.0000, 0.0000,\n",
      "        0.0000, 0.0000, 0.0000, 0.0000, 0.0000, 0.0000, 0.0000, 0.0000, 0.0000,\n",
      "        0.5073, 0.0000, 0.0000, 0.0000, 0.0000, 0.0000, 0.0000, 0.0000, 0.0000,\n",
      "        0.0000, 0.0000, 0.0000, 0.0000, 0.0000, 0.0000, 0.0000, 0.0000, 0.0000,\n",
      "        0.0000, 0.0000, 0.0000, 0.0000, 0.0000, 0.0000, 0.0000, 0.0000, 0.0000,\n",
      "        0.0000, 0.0000, 0.0000, 0.0000, 0.0000, 0.0000, 0.0000],\n",
      "       device='cuda:0', grad_fn=<MeanBackward1>)\n"
     ]
    }
   ],
   "source": [
    "qmc_sampler = SobolQMCNormalSampler(sample_shape=32)\n",
    "qEI = qExpectedImprovement(\n",
    "    model=gp_model, best_f=y_train.max(),\n",
    "    sampler=qmc_sampler)\n",
    "print(qEI(X_test.unsqueeze(1)))"
   ]
  }
 ],
 "metadata": {
  "interpreter": {
   "hash": "4d0027c8e4af6ef19652b5e9178dbab0fb836d7604e2f6f0710420cbb45dd4f7"
  },
  "kernelspec": {
   "display_name": "Python 3 (ipykernel)",
   "language": "python",
   "name": "python3"
  },
  "language_info": {
   "codemirror_mode": {
    "name": "ipython",
    "version": 3
   },
   "file_extension": ".py",
   "mimetype": "text/x-python",
   "name": "python",
   "nbconvert_exporter": "python",
   "pygments_lexer": "ipython3",
   "version": "3.10.14"
  }
 },
 "nbformat": 4,
 "nbformat_minor": 4
}
