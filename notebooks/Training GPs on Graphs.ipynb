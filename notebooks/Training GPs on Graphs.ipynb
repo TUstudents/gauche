{
 "cells": [
  {
   "cell_type": "markdown",
   "id": "213d6cca",
   "metadata": {},
   "source": [
    "# Training Gaussian Processes on Graph-Structured Inputs\n",
    "\n",
    "**In this notebook, we will use Gauche to train Gaussian processes on molecular graphs.**\n",
    "\n",
    "GPs are powerful probabilistic models that can be used for regression, uncertainty quantification and Bayesian optimisation tasks. However, general-purpose Gaussian process and Bayesian optimisation libraries typically assume that their inputs are matrices of fixed dimensionality. Yet, in many real-world applications the inputs we care about are not vectors, but can be more faithfully represented as graphs. For example, in molecular design, we often work with molecular graphs, where the nodes represent atoms and the edges represent bonds. In the following, we will show how we can use the graph GP utilities of Gauche to convert SMILES strings to molecular graphs and train a Gaussian process on them.\n",
    "\n",
    "References:\n",
    "- Gauche paper: [https://arxiv.org/abs/2212.04450](https://arxiv.org/abs/2212.04450)\n",
    "- Gaussian Processes: [https://en.wikipedia.org/wiki/Gaussian_process](https://en.wikipedia.org/wiki/Gaussian_process)\n",
    "- Graph-Structured Inputs: [https://en.wikipedia.org/wiki/Graph_(discrete_mathematics)](https://en.wikipedia.org/wiki/Graph_(discrete_mathematics))"
   ]
  },
  {
   "cell_type": "code",
   "execution_count": 7,
   "id": "9b75e9c0",
   "metadata": {},
   "outputs": [],
   "source": [
    "import warnings\n",
    "from typing import List\n",
    "\n",
    "warnings.filterwarnings(\"ignore\") # Turn off Graphein warnings\n",
    "\n",
    "import torch\n",
    "import gpytorch\n",
    "import numpy as np\n",
    "from tqdm import tqdm\n",
    "import graphein.molecule as gm\n",
    "from matplotlib import pyplot as plt\n",
    "from botorch import fit_gpytorch_model\n",
    "from sklearn.model_selection import train_test_split\n",
    "from sklearn.metrics import mean_squared_error, mean_absolute_error, r2_score\n",
    "\n",
    "# Import GAUCHE dataloader and label rescaling utils\n",
    "from gauche.dataloader import MolPropLoader\n",
    "from gauche.dataloader.data_utils import transform_data\n",
    "\n",
    "# Import GAUCHE utilities required for fitting GPs on graph-structured inputs \n",
    "from gauche import SIGP, NonTensorialInputs\n",
    "\n",
    "# Import the Weisfeiler Lehman kernel\n",
    "from gauche.kernels.graph_kernels import WeisfeilerLehmanKernel, VertexHistogramKernel\n",
    "\n",
    "%matplotlib inline"
   ]
  },
  {
   "cell_type": "markdown",
   "id": "13a79b88",
   "metadata": {},
   "source": [
    "## Defining the Graph GP Class\n",
    "\n",
    "The most important component of Gauche's graph functionalities is the `SIGP` class, which allows us to use kernels over discrete inputs with GPyTorch and BoTorch machinery. This class is specifically designed for training Gaussian processes on graph-structured inputs, which need to be wrapped in a `NonTensorialInputs` object. In the following, we define a `GraphGP` by creating a `SIGP` subclass that accepts graph-structured inputs and a corresponding kernel.\n",
    "\n",
    "Inside the `GraphGP` class, the mean function is set to `ConstantMean()` from GPyTorch, and the covariance function is set to the specified kernel function with the provided keyword arguments. The `forward` method of the `GraphGP` class takes an input `x` and returns a `MultivariateNormal` distribution representing the predictive posterior of the Gaussian process. It computes the mean and covariance of the predictive distribution using the mean and covariance functions defined earlier. To ensure numerical stability, a small jitter is added to the covariance matrix.\n"
   ]
  },
  {
   "cell_type": "code",
   "execution_count": 2,
   "id": "856e6d07",
   "metadata": {},
   "outputs": [],
   "source": [
    "# Subclass the SIGP call that allows us to use kernels over\n",
    "# discrete inputs with GPyTorch and BoTorch machinery\n",
    "\n",
    "\n",
    "class GraphGP(SIGP):\n",
    "    def __init__(\n",
    "        self,\n",
    "        train_x: NonTensorialInputs,\n",
    "        train_y: torch.Tensor,\n",
    "        likelihood: gpytorch.likelihoods.Likelihood,\n",
    "        kernel: gpytorch.kernels.Kernel,\n",
    "        **kernel_kwargs,\n",
    "    ):\n",
    "        \"\"\"\n",
    "        A subclass of the SIGP class that allows us to use kernels over\n",
    "        discrete inputs with GPyTorch and BoTorch machinery.\n",
    "\n",
    "        Parameters:\n",
    "        -----------\n",
    "        train_x: NonTensorialInputs\n",
    "            The training inputs for the model. These are graph objects.\n",
    "        train_y: torch.Tensor\n",
    "            The training labels for the model.\n",
    "        likelihood: gpytorch.likelihoods.Likelihood\n",
    "            The likelihood function for the model.\n",
    "        kernel: gpytorch.kernels.Kernel\n",
    "            The kernel function for the model.\n",
    "        **kernel_kwargs:\n",
    "            The keyword arguments for the kernel function.\n",
    "        \"\"\"\n",
    "\n",
    "        super().__init__(train_x, train_y, likelihood)\n",
    "        self.mean = gpytorch.means.ConstantMean()\n",
    "        self.covariance = kernel(**kernel_kwargs)\n",
    "\n",
    "    def forward(self, x):\n",
    "        \"\"\"\n",
    "        A forward pass through the model.\n",
    "        \"\"\"\n",
    "        mean = self.mean(torch.zeros(len(x), 1)).float()\n",
    "        covariance = self.covariance(x)\n",
    "\n",
    "        # because graph kernels operate over discrete inputs it is beneficial\n",
    "        # to add some jitter for numerical stability\n",
    "        jitter = max(covariance.diag().mean().detach().item() * 1e-4, 1e-4)\n",
    "        covariance += torch.eye(len(x)) * jitter\n",
    "        return gpytorch.distributions.MultivariateNormal(mean, covariance)"
   ]
  },
  {
   "cell_type": "markdown",
   "id": "00ba6b8d",
   "metadata": {},
   "source": [
    "## Loading and Featurising the Data\n",
    "\n",
    "In the following, we will use Gauche's built-in featurisation utilities to convert SMILES strings to molecular graphs. We will later use the `NonTensorialInputs` class to wrap the graphs in a `NonTensorialInputs` object, which can be used as input to the `GraphGP` class.\n",
    "\n",
    "For convenience, we use the MolProp dataloader to read in the Photoswitch dataset. The dataloader uses the molecular graph featurisation utils from Graphein to support a wide range of different node and edge featurisation schemes that will be saved as labels of the resulting graph. \n",
    "\n",
    "References:\n",
    "- Photoswitch dataset: Griffiths et al. [Data-driven discovery of molecular photoswitches with multioutput Gaussian processes](https://pubs.rsc.org/en/content/articlehtml/2022/sc/d2sc04306h). Chemical Science 2022.    \n",
    "- Creating Molecular Graphs in Graphein: [https://graphein.ai/notebooks/molecule_tutorial.html](https://graphein.ai/notebooks/molecule_tutorial.html)"
   ]
  },
  {
   "cell_type": "code",
   "execution_count": 3,
   "id": "1023943b",
   "metadata": {},
   "outputs": [
    {
     "name": "stdout",
     "output_type": "stream",
     "text": [
      "Found 13 invalid labels [nan nan nan nan nan nan nan nan nan nan nan nan nan] at indices [41, 42, 43, 44, 45, 46, 47, 48, 49, 50, 51, 52, 158]\n",
      "To turn validation off, use dataloader.read_csv(..., validate=False).\n"
     ]
    }
   ],
   "source": [
    "loader = MolPropLoader()\n",
    "loader.load_benchmark(\"Photoswitch\")\n",
    "\n",
    "# Define the graphein featurisation config\n",
    "\n",
    "graphein_config = gm.MoleculeGraphConfig(\n",
    "    node_metadata_functions=[gm.total_degree],\n",
    "    edge_metadata_functions=[gm.add_bond_type],\n",
    ")\n",
    "\n",
    "loader.featurize(\"molecular_graphs\", graphein_config=graphein_config)"
   ]
  },
  {
   "cell_type": "markdown",
   "id": "97f34aff",
   "metadata": {
    "tags": []
   },
   "source": [
    "## Graph Kernel GP Regression on the Photoswitch Dataset ##\n",
    "\n",
    "We define our experiment parameters. In this case we are reproducing the results of the E isomer transition wavelength prediction task from https://arxiv.org/abs/2008.03226 using 20 random splits in the ratio 80/20. Note that a validation set is not necessary for GP regression.\n",
    "\n",
    "To enable an easy evaluation of different kernel functions and their hyperparameters on the Photoswitch dataset, we define the `evaluate_model` function takes in inputs `X` and labels `y`, as well as a kernel function and optionel kernel keyword arguments. It performs a random split of the data into training and test sets, trains a `GraphGP` model using the provided kernel, and evaluates the model's performance using various regression metrics such as R^2, RMSE, and MAE. Additionally, it computes a confidence-error curve plot to visualize the model's predictive uncertainty. "
   ]
  },
  {
   "cell_type": "code",
   "execution_count": 4,
   "id": "0826fcff",
   "metadata": {},
   "outputs": [],
   "source": [
    "# Set the expetimental parameters, including the number of random splits and split size\n",
    "\n",
    "n_trials = 20\n",
    "test_set_size = 0.2\n",
    "\n",
    "# Define evaluation function that can be re-used with different kernels\n",
    "\n",
    "\n",
    "def evaluate_model(\n",
    "    X: List,\n",
    "    y: np.array,\n",
    "    kernel: gpytorch.kernels.Kernel,\n",
    "    **kernel_kwargs: dict,\n",
    ") -> (np.ndarray, np.ndarray):\n",
    "    \"\"\"\n",
    "    A function that trains and evaluates a graph GP model with a\n",
    "    given kernel and keyword arguments on a given dataset.\n",
    "    It also plots the confidence-error curves for the model.\n",
    "\n",
    "    Parameters:\n",
    "    -----------\n",
    "    X: List\n",
    "        A list of Graphein graphs to train the GP on.\n",
    "    y: np.ndarray\n",
    "        The labels for the model.\n",
    "    kernel: gpytorch.kernels.Kernel\n",
    "        The kernel function for the model.\n",
    "    **kernel_kwargs:\n",
    "        The keyword arguments for the kernel function.\n",
    "\n",
    "    Returns:\n",
    "    --------\n",
    "    r2_list: np.ndarray\n",
    "        The R^2 scores for each trial.\n",
    "    rmse_list: np.ndarray\n",
    "        The RMSE scores for each trial.\n",
    "    mae_list: np.ndarray\n",
    "        The MAE scores for each trial.\n",
    "    \"\"\"\n",
    "\n",
    "    # Initialise performance metric lists\n",
    "    r2_list = []\n",
    "    rmse_list = []\n",
    "    mae_list = []\n",
    "\n",
    "    # We pre-allocate array for plotting confidence-error curves\n",
    "    n_test = int(len(y) * test_set_size) + 1\n",
    "    mae_confidence_list = np.zeros((n_trials, n_test))\n",
    "\n",
    "    progress_bar = tqdm(range(n_trials))\n",
    "\n",
    "    for i in progress_bar:\n",
    "        progress_bar.set_description(f\"Running trial #{i}\")\n",
    "\n",
    "        # Carry out the random split with the current random seed\n",
    "        # and standardise the outputs\n",
    "        X_train, X_test, y_train, y_test = train_test_split(\n",
    "            X, y, test_size=test_set_size, random_state=i\n",
    "        )\n",
    "        _, y_train, _, y_test, y_scaler = transform_data(\n",
    "            np.zeros_like(y_train), y_train, np.zeros_like(y_test), y_test\n",
    "        )\n",
    "\n",
    "        # Convert graph-structured inputs to custom data class for\n",
    "        # non-tensorial inputs and convert labels to PyTorch tensors\n",
    "        X_train = NonTensorialInputs(X_train)\n",
    "        X_test = NonTensorialInputs(X_test)\n",
    "        y_train = torch.tensor(y_train).flatten().float()\n",
    "        y_test = torch.tensor(y_test).flatten().float()\n",
    "\n",
    "        # Initialise GP likelihood and model\n",
    "        likelihood = gpytorch.likelihoods.GaussianLikelihood()\n",
    "        model = GraphGP(X_train, y_train, likelihood, kernel, **kernel_kwargs)\n",
    "\n",
    "        # Define the marginal log likelihood used to optimise the model hyperparameters\n",
    "        mll = gpytorch.mlls.ExactMarginalLogLikelihood(likelihood, model)\n",
    "\n",
    "        # Use the BoTorch utility for fitting GPs in order\n",
    "        # to use the LBFGS-B optimiser (recommended)\n",
    "        fit_gpytorch_model(mll)\n",
    "\n",
    "        # Get into evaluation (predictive posterior) mode and compute predictions\n",
    "        model.eval()\n",
    "        likelihood.eval()\n",
    "        f_pred = model(X_test)\n",
    "        y_pred = f_pred.mean\n",
    "        y_var = f_pred.variance\n",
    "\n",
    "        # Transform the predictions back to the original scale and calucalte eval metrics\n",
    "        y_pred = y_scaler.inverse_transform(y_pred.detach().unsqueeze(dim=1))\n",
    "        y_test = y_scaler.inverse_transform(y_test.detach().unsqueeze(dim=1))\n",
    "\n",
    "        # Construct the MAE error for each level of confidence\n",
    "        ranked_confidence_list = np.argsort(y_var.detach(), axis=0).flatten()\n",
    "        for k in range(len(y_test)):\n",
    "            conf = ranked_confidence_list[0 : k + 1]\n",
    "            mae = mean_absolute_error(y_test[conf], y_pred[conf])\n",
    "            mae_confidence_list[i, k] = mae\n",
    "\n",
    "        # Compute R^2, RMSE and MAE on Test set\n",
    "        score = r2_score(y_test, y_pred)\n",
    "        rmse = np.sqrt(mean_squared_error(y_test, y_pred))\n",
    "        mae = mean_absolute_error(y_test, y_pred)\n",
    "\n",
    "        r2_list.append(score)\n",
    "        rmse_list.append(rmse)\n",
    "        mae_list.append(mae)\n",
    "\n",
    "    r2_list = np.array(r2_list)\n",
    "    rmse_list = np.array(rmse_list)\n",
    "    mae_list = np.array(mae_list)\n",
    "\n",
    "    # Print mean and standard error of the mean for each metric\n",
    "\n",
    "    print(\n",
    "        \"\\nmean R^2: {:.4f} +- {:.4f}\".format(\n",
    "            np.mean(r2_list), np.std(r2_list) / np.sqrt(len(r2_list))\n",
    "        )\n",
    "    )\n",
    "    print(\n",
    "        \"mean RMSE: {:.4f} +- {:.4f}\".format(\n",
    "            np.mean(rmse_list), np.std(rmse_list) / np.sqrt(len(rmse_list))\n",
    "        )\n",
    "    )\n",
    "    print(\n",
    "        \"mean MAE: {:.4f} +- {:.4f}\\n\".format(\n",
    "            np.mean(mae_list), np.std(mae_list) / np.sqrt(len(mae_list))\n",
    "        )\n",
    "    )\n",
    "\n",
    "    # Plot the mean-absolute error/confidence-error curves\n",
    "    # with 1 sigma errorbars\n",
    "\n",
    "    confidence_percentiles = np.arange(1e-14, 100, 100 / len(y_test))\n",
    "\n",
    "    mae_mean = np.mean(mae_confidence_list, axis=0)\n",
    "    mae_mean = np.flip(mae_mean)\n",
    "    mae_std = np.std(mae_confidence_list, axis=0)\n",
    "    mae_std = np.flip(mae_std)\n",
    "    lower = mae_mean - mae_std\n",
    "    upper = mae_mean + mae_std\n",
    "\n",
    "    plt.plot(confidence_percentiles, mae_mean, label=\"mean\")\n",
    "    plt.fill_between(confidence_percentiles, lower, upper, alpha=0.2)\n",
    "    plt.xlabel(\"Confidence Percentile\")\n",
    "    plt.ylabel(\"MAE (nm)\")\n",
    "    plt.ylim([0, np.max(upper) + 1])\n",
    "    plt.xlim([0, 100 * ((len(y_test) - 1) / len(y_test))])\n",
    "    plt.yticks(np.arange(0, np.max(upper) + 1, 5.0))\n",
    "    plt.show()\n",
    "\n",
    "    return r2_list, rmse_list, mae_list"
   ]
  },
  {
   "cell_type": "markdown",
   "id": "9f71da40",
   "metadata": {},
   "source": [
    "## Selecting a Graph Kernel ##\n",
    "\n",
    "Gauche provides a wide-range of kernels that can be used to quantify the similarity between graph-structured inputs and train Gaussian processes on them. These kernels are implemented in the `gauche.kernels.graph_kernels` module and can be used as drop-in replacements for any `gpytorch.kernels.Kernel`. These kernels mostly build on the GraKel library and currently include the:\n",
    "\n",
    "- [RandomWalkKernel](https://ysig.github.io/GraKeL/0.1a8/kernels/random_walk.html) for unlabelled graphs.\n",
    "- [ShortestPathKernel](https://ysig.github.io/GraKeL/0.1a8/kernels/shortest_path.html) for unlabelled graphs.\n",
    "- [GraphletSamplingKernel](https://ysig.github.io/GraKeL/0.1a8/kernels/graphlet_sampling.html) for unlabelled graphs.\n",
    "- [VertexHistogramKernel](https://ysig.github.io/GraKeL/0.1a8/kernels/vertex_histogram.html) for node-labelled graphs.\n",
    "- [NeighborhoodHashKernel](https://ysig.github.io/GraKeL/0.1a8/kernels/neighborhood_hash.html): for node-labelled graphs.\n",
    "- [RandomWalkLabeledKernel](https://ysig.github.io/GraKeL/0.1a8/kernels/random_walk.html): for node-labelled graphs.\n",
    "- [ShortestPathLabeledKernel](https://ysig.github.io/GraKeL/0.1a8/kernels/shortest_path.html): for node-labelled graphs.\n",
    "- [WeisfeilerLehmanKernel](https://ysig.github.io/GraKeL/0.1a8/kernels/weisfeiler_lehman.html) for node-labelled and optionally edge-labelled graphs.\n",
    "- [EdgeHistogramKernel](https://ysig.github.io/GraKeL/0.1a8/kernels/edge_histogram.html): for edge-labelled graphs.\n",
    "\n",
    "Any node and edge labels can be passed as a `node_label=...` or `edge_label=...` argument to the respective kernel function. These kernels already provide a powerful set of tools for quantifying the similarity between graphs and we plan to add additional kernels in the future.\n",
    "\n",
    "In the following, we will be training a graph GP model with a Weisfeiler-Lehman kernel (using element types as node labels), and compare it to the performance of the much simpler vertex histogram kernel. "
   ]
  },
  {
   "cell_type": "code",
   "execution_count": 5,
   "id": "fa469e07",
   "metadata": {},
   "outputs": [
    {
     "name": "stderr",
     "output_type": "stream",
     "text": [
      "Running trial #19: 100%|████████████████████████████████████████████████████████████████| 20/20 [00:12<00:00,  1.64it/s]"
     ]
    },
    {
     "name": "stdout",
     "output_type": "stream",
     "text": [
      "\n",
      "mean R^2: 0.8552 +- 0.0078\n",
      "mean RMSE: 24.7731 +- 0.7579\n",
      "mean MAE: 15.7633 +- 0.4203\n",
      "\n"
     ]
    },
    {
     "name": "stderr",
     "output_type": "stream",
     "text": [
      "\n"
     ]
    },
    {
     "data": {
      "image/png": "[encoded data removed]",
      "text/plain": [
       "<Figure size 640x480 with 1 Axes>"
      ]
     },
     "metadata": {},
     "output_type": "display_data"
    }
   ],
   "source": [
    "# Evaluate the performance of the Weisfeiler Lehman kernel using element types as node labels\n",
    "_, _, _, = evaluate_model(\n",
    "    loader.features, loader.labels, \n",
    "    WeisfeilerLehmanKernel, node_label=\"element\",\n",
    ")"
   ]
  },
  {
   "cell_type": "code",
   "execution_count": 6,
   "id": "81ae1498-4a68-4540-ba3a-b616cbeb5873",
   "metadata": {},
   "outputs": [
    {
     "name": "stderr",
     "output_type": "stream",
     "text": [
      "Running trial #19: 100%|████████████████████████████████████████████████████████████████| 20/20 [00:12<00:00,  1.57it/s]"
     ]
    },
    {
     "name": "stdout",
     "output_type": "stream",
     "text": [
      "\n",
      "mean R^2: 0.3952 +- 0.0329\n",
      "mean RMSE: 50.6839 +- 1.5627\n",
      "mean MAE: 38.1607 +- 1.0446\n",
      "\n"
     ]
    },
    {
     "name": "stderr",
     "output_type": "stream",
     "text": [
      "\n"
     ]
    },
    {
     "data": {
      "image/png": "[encoded data removed]",
      "text/plain": [
       "<Figure size 640x480 with 1 Axes>"
      ]
     },
     "metadata": {},
     "output_type": "display_data"
    }
   ],
   "source": [
    "# Compare it to the performance of a simple vertex histogram kernel\n",
    "_, _, _, = evaluate_model(\n",
    "    loader.features, loader.labels, \n",
    "    VertexHistogramKernel, node_label=\"element\",\n",
    ")"
   ]
  }
 ],
 "metadata": {
  "kernelspec": {
   "display_name": "gauche_pip",
   "language": "python",
   "name": "gauche_pip"
  },
  "language_info": {
   "codemirror_mode": {
    "name": "ipython",
    "version": 3
   },
   "file_extension": ".py",
   "mimetype": "text/x-python",
   "name": "python",
   "nbconvert_exporter": "python",
   "pygments_lexer": "ipython3",
   "version": "3.10.13"
  }
 },
 "nbformat": 4,
 "nbformat_minor": 5
}
